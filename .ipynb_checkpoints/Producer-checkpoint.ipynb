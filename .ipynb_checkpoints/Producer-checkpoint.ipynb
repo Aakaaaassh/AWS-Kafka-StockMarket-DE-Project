{
 "cells": [
  {
   "cell_type": "code",
   "execution_count": null,
   "id": "3e78fd68",
   "metadata": {},
   "outputs": [],
   "source": [
    "pip install kafka-python"
   ]
  },
  {
   "cell_type": "code",
   "execution_count": null,
   "id": "8d0c0548",
   "metadata": {},
   "outputs": [],
   "source": [
    "import pandas as pd\n",
    "from kafka import KafkaProducer\n",
    "from time import sleep\n",
    "from json import dumps\n",
    "import json"
   ]
  },
  {
   "cell_type": "code",
   "execution_count": null,
   "id": "fa3c7b2f",
   "metadata": {},
   "outputs": [],
   "source": [
    "Producer = KafkaProducer(bootstrap_servers = ['13.201.70.210:9092'],\n",
    "                        value_serializer = lambda x:\n",
    "                        dumps(x).encode('utf-8'))"
   ]
  },
  {
   "cell_type": "code",
   "execution_count": null,
   "id": "cb21e2cf",
   "metadata": {},
   "outputs": [],
   "source": [
    "Producer.send('demo_test', value = \"{'Name':'Akash'}\")"
   ]
  },
  {
   "cell_type": "code",
   "execution_count": null,
   "id": "c7daaa0c",
   "metadata": {},
   "outputs": [],
   "source": [
    "df = pd.read_csv('indexProcessed.csv')"
   ]
  },
  {
   "cell_type": "code",
   "execution_count": null,
   "id": "d0aee9e3",
   "metadata": {},
   "outputs": [],
   "source": [
    "df.head()"
   ]
  },
  {
   "cell_type": "code",
   "execution_count": null,
   "id": "0f245b03",
   "metadata": {},
   "outputs": [],
   "source": [
    "df.sample(1).to_dict(orient = 'records')[0]"
   ]
  },
  {
   "cell_type": "code",
   "execution_count": null,
   "id": "dbd11c44",
   "metadata": {},
   "outputs": [],
   "source": [
    "while True:\n",
    "    Stock = df.sample(1).to_dict(orient = 'records')[0]\n",
    "    Producer.send('demo_test', value = Stock)\n",
    "    sleep(1) "
   ]
  },
  {
   "cell_type": "code",
   "execution_count": null,
   "id": "f8b7243a",
   "metadata": {},
   "outputs": [],
   "source": [
    "Producer.flush() #clear data from kafka server"
   ]
  }
 ],
 "metadata": {
  "kernelspec": {
   "display_name": "Python 3 (ipykernel)",
   "language": "python",
   "name": "python3"
  },
  "language_info": {
   "codemirror_mode": {
    "name": "ipython",
    "version": 3
   },
   "file_extension": ".py",
   "mimetype": "text/x-python",
   "name": "python",
   "nbconvert_exporter": "python",
   "pygments_lexer": "ipython3",
   "version": "3.10.9"
  }
 },
 "nbformat": 4,
 "nbformat_minor": 5
}
