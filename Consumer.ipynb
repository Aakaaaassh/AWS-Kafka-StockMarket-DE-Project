{
 "cells": [
  {
   "cell_type": "code",
   "execution_count": null,
   "id": "697f6798",
   "metadata": {},
   "outputs": [],
   "source": [
    "import pandas as pd\n",
    "from kafka import KafkaConsumer\n",
    "from time import sleep\n",
    "from json import dumps,loads\n",
    "from s3fs import S3FileSystem\n",
    "import json"
   ]
  },
  {
   "cell_type": "code",
   "execution_count": null,
   "id": "58f431b4",
   "metadata": {},
   "outputs": [],
   "source": [
    "Consumer = KafkaConsumer('demo_test',\n",
    "                         bootstrap_servers = ['13.201.70.210:9092'],\n",
    "                        value_deserializer = lambda x:\n",
    "                        loads(x.decode('utf-8')))"
   ]
  },
  {
   "cell_type": "code",
   "execution_count": null,
   "id": "168e9928",
   "metadata": {},
   "outputs": [],
   "source": [
    "s3 = S3FileSystem()"
   ]
  },
  {
   "cell_type": "code",
   "execution_count": null,
   "id": "a7f08eb1",
   "metadata": {},
   "outputs": [],
   "source": [
    "for count,i in enumerate(Consumer):\n",
    "    with s3.open(\"s3://akash-kafka-stock-market-bucket/stock_market_{}.json\".format(count),'w') as file:\n",
    "        json.dump(i.value,file)"
   ]
  }
 ],
 "metadata": {
  "kernelspec": {
   "display_name": "Python 3 (ipykernel)",
   "language": "python",
   "name": "python3"
  },
  "language_info": {
   "codemirror_mode": {
    "name": "ipython",
    "version": 3
   },
   "file_extension": ".py",
   "mimetype": "text/x-python",
   "name": "python",
   "nbconvert_exporter": "python",
   "pygments_lexer": "ipython3",
   "version": "3.10.9"
  }
 },
 "nbformat": 4,
 "nbformat_minor": 5
}
